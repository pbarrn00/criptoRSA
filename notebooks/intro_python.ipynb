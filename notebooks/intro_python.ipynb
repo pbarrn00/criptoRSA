{
 "cells": [
  {
   "cell_type": "markdown",
   "id": "0e1ad2ef",
   "metadata": {},
   "source": [
    "# Intro"
   ]
  },
  {
   "cell_type": "markdown",
   "id": "47197935",
   "metadata": {},
   "source": [
    "Python is a general purpose, interpreted, dynamically-typed language. Notably, indentation is language-significant, we will see it more clearly when we examine control flow"
   ]
  },
  {
   "cell_type": "markdown",
   "id": "0aef6bc2",
   "metadata": {},
   "source": [
    "## Basics\n",
    "Since the language is dynamically typed variables need not (and cannot) be declared, they must be defined directly"
   ]
  },
  {
   "cell_type": "code",
   "execution_count": null,
   "id": "62ab2420",
   "metadata": {},
   "outputs": [],
   "source": [
    "an_integer = 12\n",
    "a_list = [1, 2, 3, 4]\n",
    "\n",
    "# As you can see, single line comments are started with \"#\"\n",
    "# The print function can take any number of arguments of any type\n",
    "print(\"integer:\", an_integer, \"list:\", a_list)"
   ]
  },
  {
   "cell_type": "markdown",
   "id": "e6a4df22",
   "metadata": {},
   "source": [
    "### Numbers\n",
    "Python defines operators for addition, subtraction, multiplication, division, exponentiation and modulo"
   ]
  },
  {
   "cell_type": "code",
   "execution_count": null,
   "id": "2e213c6e",
   "metadata": {},
   "outputs": [],
   "source": [
    "i1 = 12\n",
    "i2 = 5\n",
    "\n",
    "# strings have a format method that may be used to insert the string representation of any variable\n",
    "# Addition\n",
    "print(\"{} + {} =\".format(i1, i2), i1 + i2)\n",
    "\n",
    "# Subtraction\n",
    "print(\"{} - {} =\".format(i1, i2), i1 - i2)\n",
    "\n",
    "# Multiplication\n",
    "print(\"{} * {} =\".format(i1, i2), i1 * i2)\n",
    "\n",
    "# Division\n",
    "print(\"{} / {} =\".format(i1, i2), i1 / i2)\n",
    "\n",
    "# Integer division: produces the quotient q such that i1 / i2 = q * i2 + r\n",
    "print(\"Integer division of {} by {} =\".format(i1, i2), i1 // i2)\n",
    "\n",
    "# Exponentiation\n",
    "print(\"{} ^ {} =\".format(i1, i2), i1 ** i2)\n",
    "\n",
    "# Modulo\n",
    "print(\"{} mod {} =\".format(i1, i2), i1 % i2)"
   ]
  },
  {
   "cell_type": "code",
   "execution_count": null,
   "id": "00948997",
   "metadata": {},
   "outputs": [],
   "source": [
    "# In addition, these operators can also be combined with assignment\n",
    "i1 *= i2\n",
    "print(\"Now i1 has value:\", i1)\n",
    "\n",
    "i1 %= 33\n",
    "print(\"Now i1 has value:\", i1)"
   ]
  },
  {
   "cell_type": "markdown",
   "id": "4d89c1f9",
   "metadata": {},
   "source": [
    "Conveniently, integers in Python have arbitrary precision, so we will not need external libraries for computation of several cryptographic primitives"
   ]
  },
  {
   "cell_type": "code",
   "execution_count": null,
   "id": "f485d35f",
   "metadata": {},
   "outputs": [],
   "source": [
    "# This works perfectly\n",
    "p = 2 ** 4096 + 33\n",
    "q = 3 ** 66\n",
    "m = 12 ** 66\n",
    "\n",
    "print(\"p:\", p)\n",
    "print(\"q:\", q)\n",
    "print(\"m:\", m)\n",
    "print(\"p * q mod m:\", (p * q) % m)"
   ]
  },
  {
   "cell_type": "markdown",
   "id": "680c898a",
   "metadata": {},
   "source": [
    "While floating point numbers are restricted as usual, Python provides a Decimal class for arbitrary precision integer and floating point operations"
   ]
  },
  {
   "cell_type": "code",
   "execution_count": null,
   "id": "20501800",
   "metadata": {},
   "outputs": [],
   "source": [
    "a_floating_point = 3.3 ** 63\n",
    "print(\"number:\", a_floating_point)\n",
    "print(\"number ^ 12:\", a_floating_point ** 12)"
   ]
  },
  {
   "cell_type": "markdown",
   "id": "5ba60669",
   "metadata": {},
   "source": [
    "#### A note on modules\n",
    "Python allows importing definitions of variables, functions and other objects from other files. A file used in such a way is called a _module_.\n",
    "<br><br>\n",
    "The Decimal class is located inside the standard library module _decimal_."
   ]
  },
  {
   "cell_type": "code",
   "execution_count": null,
   "id": "114fa8e7",
   "metadata": {},
   "outputs": [],
   "source": [
    "# To import a module. The name decimal becomes a variable that holds all definitions in the module, that can be accessed\n",
    "# as attributes using the standard dot notation\n",
    "import decimal\n",
    "print(\"the decimal module:\", decimal)\n",
    "\n",
    "# Access the Decimal class in the module\n",
    "my_decimal_number = decimal.Decimal(12.4563)\n",
    "# Note that many floating point numbers do not have an exact representation\n",
    "print(\"my_decimal_number:\", my_decimal_number)\n"
   ]
  },
  {
   "cell_type": "code",
   "execution_count": null,
   "id": "4eeb276b",
   "metadata": {},
   "outputs": [],
   "source": [
    "# Alternatively, you can import only selected names from a module. The imported objects will be assigned a name in the scope\n",
    "from decimal import Decimal\n",
    "\n",
    "another_decimal_number = Decimal(123.4567)\n",
    "print(\"another_decimal_number:\", another_decimal_number)"
   ]
  },
  {
   "cell_type": "markdown",
   "id": "55ecd0a8",
   "metadata": {},
   "source": [
    "Decimal objects support all operators integers do, except the other operand must be another Decimal or integer"
   ]
  },
  {
   "cell_type": "code",
   "execution_count": null,
   "id": "28edc038",
   "metadata": {},
   "outputs": [],
   "source": [
    "print(\"3.4 ^ 1.5:\", Decimal(3.4) ** Decimal(1.5))\n",
    "print(\"(3.3 ^ 63) ^ 12:\", Decimal(3.3 ** 63) ** 12)\n",
    "\n",
    "# This will fail\n",
    "print(\"34 + 1.5 (float):\", Decimal(34) + 1.5)"
   ]
  },
  {
   "cell_type": "markdown",
   "id": "db39befd",
   "metadata": {},
   "source": [
    "### Data structures\n",
    "\n",
    "We will look at some basic data structures that we will need"
   ]
  },
  {
   "cell_type": "markdown",
   "id": "5ddc4435",
   "metadata": {},
   "source": [
    "Lists are an ordered collection of elements indexed by a number in the range [0, number_of_elements). Its elements can be modified. "
   ]
  },
  {
   "cell_type": "code",
   "execution_count": null,
   "id": "5c549b0e",
   "metadata": {
    "scrolled": true
   },
   "outputs": [],
   "source": [
    "a_list = [1, 2, 3, 4]\n",
    "\n",
    "a_list[2] = 789\n",
    "\n",
    "print(\"a_list[0]:\", a_list[0])\n",
    "print(\"a_list[1]:\", a_list[1])\n",
    "print(\"a_list[2]:\", a_list[2])\n",
    "print(\"a_list[3]:\", a_list[3])\n",
    "\n",
    "# Add an element to the end of the list\n",
    "# Since Python is dynamically typed, objects of any type\n",
    "# can be inserted into the list\n",
    "# It is not good practice to do this, but it is possible\n",
    "a_list.append(\"Penultimate element\")\n",
    "a_list.append([1, 2, 3])\n",
    "print(\"a_list:\", a_list)"
   ]
  },
  {
   "cell_type": "markdown",
   "id": "76960bd5",
   "metadata": {},
   "source": [
    "Indices can be negative: in this case the effective value will be $len(sequence) - index$"
   ]
  },
  {
   "cell_type": "code",
   "execution_count": null,
   "id": "be2d17b3",
   "metadata": {},
   "outputs": [],
   "source": [
    "a_list = [1, 2, 3]\n",
    "print(\"Last element of {}:\".format(a_list), a_list[-1])"
   ]
  },
  {
   "cell_type": "markdown",
   "id": "32881036",
   "metadata": {},
   "source": [
    "A _slice_ of the list can also be selected with the start:stop syntax"
   ]
  },
  {
   "cell_type": "code",
   "execution_count": null,
   "id": "ed0550a8",
   "metadata": {},
   "outputs": [],
   "source": [
    "a_list = [1, 2, 3, 4, 5, 6, 7, 8, 9]\n",
    "print(\"Second element to fifth element in {}:\".format(a_list), a_list[1:5])"
   ]
  },
  {
   "cell_type": "markdown",
   "id": "c47b2e7a",
   "metadata": {},
   "source": [
    "A tuple is very similar to a list except it is immutable: its elements cannot be modified and no elements can be added to it."
   ]
  },
  {
   "cell_type": "code",
   "execution_count": null,
   "id": "940e4a2a",
   "metadata": {},
   "outputs": [],
   "source": [
    "a_tuple = (1, 2, 3, 4)\n",
    "\n",
    "print(\"a_tuple:\", a_tuple)\n",
    "print(\"last element of {}:\".format(a_tuple), a_tuple[-1])\n",
    "\n",
    "# This will throw an error\n",
    "a_tuple[0] = 2"
   ]
  },
  {
   "cell_type": "markdown",
   "id": "1281f9c4",
   "metadata": {},
   "source": [
    "To compute the number of elements use the built-in function _len_"
   ]
  },
  {
   "cell_type": "code",
   "execution_count": null,
   "id": "6ac86f58",
   "metadata": {},
   "outputs": [],
   "source": [
    "# The number of elements of any iterable structure can be computed with the len function\n",
    "a_tuple = (4, 5, 6, 7)\n",
    "print(\"Number of elements of a_tuple:\", len(a_tuple))"
   ]
  },
  {
   "cell_type": "markdown",
   "id": "e4ef0419",
   "metadata": {},
   "source": [
    "These kind of sequences can have its elements bound to different names. This is known as _unpacking_ and is useful to capture return values of functions as we will see later."
   ]
  },
  {
   "cell_type": "code",
   "execution_count": null,
   "id": "fa889850",
   "metadata": {},
   "outputs": [],
   "source": [
    "a_list = [1, 2, 3]\n",
    "\n",
    "# A name for each element in a_list, assignment\n",
    "# will respect list order from left to right\n",
    "first, second, third = a_list\n",
    "print(\"a_list:\", a_list)\n",
    "print(\"first element:\", first)\n",
    "print(\"second element:\", second)\n",
    "print(\"third element:\", third)"
   ]
  },
  {
   "cell_type": "markdown",
   "id": "bb2765bb",
   "metadata": {},
   "source": [
    "### Control structures\n",
    "_if_, _while_ and _for_ are present in python\n",
    "\n",
    "<br>\n",
    "First we review boolean expressions\n",
    "<br>\n",
    "<br>\n",
    "The standard set of comparison operators is available"
   ]
  },
  {
   "cell_type": "code",
   "execution_count": null,
   "id": "1c111aa2",
   "metadata": {},
   "outputs": [],
   "source": [
    "a = 12\n",
    "b = 15\n",
    "\n",
    "# test equality\n",
    "print(\"a equals b:\", a == b)\n",
    "\n",
    "# test inequality\n",
    "print(\"a does not equal b:\", a != b)\n",
    "\n",
    "# greater\n",
    "print(\"a greater than b:\", a > b)\n",
    "\n",
    "# lower\n",
    "print(\"a lower than b:\", a < b)\n",
    "\n",
    "# greater or equal\n",
    "print(\"a greater or equal to a\", a >= a)\n",
    "\n",
    "# lower or equal\n",
    "print(\"b lower or equal to b:\", b <= b)\n",
    "\n",
    "# pertenence to iterable\n",
    "print(\"{} in [1, 2, 3, 4, 5]:\".format(6), 6 in [1, 2, 3, 4, 5])"
   ]
  },
  {
   "cell_type": "markdown",
   "id": "ba048699",
   "metadata": {},
   "source": [
    "To chain boolean expressions the keywords _not_, _and_, _or_ are used. _and_ and _or_ are shortcircuited."
   ]
  },
  {
   "cell_type": "code",
   "execution_count": null,
   "id": "4b6a7a50",
   "metadata": {},
   "outputs": [],
   "source": [
    "a = 34\n",
    "b = 21\n",
    "\n",
    "print(\"a greater than b and lower than 55:\", a > b and a < 55)\n",
    "print(\"a lower than b or a greater than b:\", a < b or a > b)\n",
    "print(\"a not greater than 45 or 67:\", not a > 45 or not a > 67)"
   ]
  },
  {
   "cell_type": "markdown",
   "id": "0b104bc1",
   "metadata": {},
   "source": [
    "Python uses indentation as a part of the language, to delimit blocks of code like similarly to curly braces in C/C++\n",
    "<br><br>\n",
    "Just as in other languages, _if_ evaluates a boolean expression and executes its code block if it is True. The expression does not have to be surrounded by parentheses and a colon precedes the code block"
   ]
  },
  {
   "cell_type": "code",
   "execution_count": null,
   "id": "e4466844",
   "metadata": {
    "scrolled": true
   },
   "outputs": [],
   "source": [
    "variable = 6\n",
    "if (variable > 12):\n",
    "    # All sentences with the same level of indentation will be part of the code block\n",
    "    print(\"Variable is greater that 12\")\n",
    "    print(\"Just another print\")\n",
    "# If the above was not true, check this\n",
    "elif variable > 8:\n",
    "    print(\"Variable is greater than 8\")\n",
    "    print(\"It is really greater than 8\")\n",
    "# If none of the above were true, execute code block\n",
    "else:\n",
    "    print(\"Variable is not greater than 12 or 8\")"
   ]
  },
  {
   "cell_type": "markdown",
   "id": "1bbba200",
   "metadata": {},
   "source": [
    "A _while_ executes its code block as long as the boolean expression is True. Just like with if, parentheses around the expression are not necessary, the code block is preceded by a colon and must be indented"
   ]
  },
  {
   "cell_type": "code",
   "execution_count": null,
   "id": "025e9771",
   "metadata": {},
   "outputs": [],
   "source": [
    "i = 5\n",
    "while i >= 0:\n",
    "    print(\"i is equal to:\", i)\n",
    "    i -= 1"
   ]
  },
  {
   "cell_type": "markdown",
   "id": "bb065935",
   "metadata": {},
   "source": [
    "The _for_ loop is somewhat different than in other languages and more similar to the range-for in C++. It iterates over elements in a collection"
   ]
  },
  {
   "cell_type": "code",
   "execution_count": null,
   "id": "548c8ba8",
   "metadata": {},
   "outputs": [],
   "source": [
    "a_list = [1, 2, 3, 4, 5, 6, 7, 8, 9, 10]\n",
    "# print elements in a_list: integers from 1 to 10\n",
    "for i in a_list:\n",
    "    print(i)"
   ]
  },
  {
   "cell_type": "markdown",
   "id": "8a7592a6",
   "metadata": {},
   "source": [
    "Iterating over indices can be emulated using the _range_ function"
   ]
  },
  {
   "cell_type": "code",
   "execution_count": null,
   "id": "9f856a6a",
   "metadata": {
    "scrolled": true
   },
   "outputs": [],
   "source": [
    "# Iterates over all elements in [2, 6)  Note that 6 is not included\n",
    "for i in range(2, 6):\n",
    "    print(i)\n",
    "\n",
    "print(\"===============\")\n",
    "# Iterates over all elements in [0, 3)  Note that 3 is not included\n",
    "for i in range(3):\n",
    "    print(i)"
   ]
  },
  {
   "cell_type": "markdown",
   "id": "585330fe",
   "metadata": {},
   "source": [
    "the _enumerate_ function allows to iterate over indices and elements"
   ]
  },
  {
   "cell_type": "code",
   "execution_count": null,
   "id": "a2c6dca1",
   "metadata": {},
   "outputs": [],
   "source": [
    "for i, elem in enumerate([11, 22, 33, 44]):\n",
    "    print(\"index {}: {}\".format(i, elem))"
   ]
  },
  {
   "cell_type": "markdown",
   "id": "9d3d2e30",
   "metadata": {},
   "source": [
    "In Python, _if_, _while_ and _for_ do not define a scope, so names defined inside their blocks are visible outside them"
   ]
  },
  {
   "cell_type": "code",
   "execution_count": null,
   "id": "9b57af16",
   "metadata": {},
   "outputs": [],
   "source": [
    "a = 2\n",
    "b = 3\n",
    "\n",
    "if a > b:\n",
    "    a_new_integer = 345\n",
    "else:\n",
    "    a_new_integer = 111\n",
    "print(\"a_new_integer:\", a_new_integer)"
   ]
  },
  {
   "cell_type": "markdown",
   "id": "ab6c4638",
   "metadata": {},
   "source": [
    "lists can be created dynamically using what is known as a _comprehension_"
   ]
  },
  {
   "cell_type": "code",
   "execution_count": null,
   "id": "397f7a77",
   "metadata": {},
   "outputs": [],
   "source": [
    "list_of_numbers = [1, 2, 3, 4, 5]\n",
    "\n",
    "# Any valid expression can be used to generate the elements, included function calls\n",
    "list_of_squares = [pow(x, 2) for x in list_of_numbers]\n",
    "print(\"list of numbers:\", list_of_numbers)\n",
    "print(\"list of squares:\", list_of_squares)"
   ]
  },
  {
   "cell_type": "markdown",
   "id": "ea6d19de",
   "metadata": {},
   "source": [
    "### Functions\n",
    "Functions are defined using the _def_ keyword. Arguments are defined inside parentheses and separated by commas. Function code must be indented in a new line and preceded by a colon.\n",
    "\n",
    "<br>\n",
    "Multiline comments can be added after function signatures using triple quotes"
   ]
  },
  {
   "cell_type": "code",
   "execution_count": null,
   "id": "a4558a8f",
   "metadata": {},
   "outputs": [],
   "source": [
    "def factorial(n):\n",
    "    '''\n",
    "    Computes the factorial of n\n",
    "    '''\n",
    "    total = 1\n",
    "    while n > 1:\n",
    "        total *= n\n",
    "        n -= 1\n",
    "    return total\n",
    "\n",
    "# Once defined, a function is called with parentheses and the required arguments\n",
    "print(\"Factorial of 5:\", factorial(5))\n",
    "\n",
    "# If an argument is missing, an exception is thrown\n",
    "print(\"Factorial with no arguments:\", factorial())"
   ]
  },
  {
   "cell_type": "markdown",
   "id": "70a5be39",
   "metadata": {},
   "source": [
    "Python is dynamically typed so arguments have no types and no error will be thrown when passing a nonsensical argument. Although an error will probably be thrown when executing the function.\n",
    "<br><br>\n",
    "Since the error message may be less than informative, the programmer may want to check argument types. "
   ]
  },
  {
   "cell_type": "code",
   "execution_count": null,
   "id": "92548f23",
   "metadata": {},
   "outputs": [],
   "source": [
    "factorial(\"invalid argument\")"
   ]
  },
  {
   "cell_type": "markdown",
   "id": "70b91ec8",
   "metadata": {},
   "source": [
    "Python supports type hints in function definitions, so you can know the expected type of arguments and return value. These hints are optional and offer no type checking. They will be seen in example code."
   ]
  },
  {
   "cell_type": "code",
   "execution_count": null,
   "id": "ffdd2daf",
   "metadata": {},
   "outputs": [],
   "source": [
    "def factorial_hint(n: int) -> int:\n",
    "    '''\n",
    "    Computes the factorial of n\n",
    "    '''\n",
    "    total = 1\n",
    "    while n > 1:\n",
    "        total *= n\n",
    "        n -= 1\n",
    "    return total\n",
    "\n",
    "# No checking\n",
    "factorial_hint(\"dgdfd\")"
   ]
  },
  {
   "cell_type": "markdown",
   "id": "e79b9486",
   "metadata": {},
   "source": [
    "The keyword _lambda_ can be used to define anonymous functions with a single expression. No _return_ statement is allowed, the returned value will be the value produced by the expression"
   ]
  },
  {
   "cell_type": "code",
   "execution_count": null,
   "id": "ecd165a7",
   "metadata": {},
   "outputs": [],
   "source": [
    "cube = lambda x: x ** 3\n",
    "\n",
    "print(\"8 cubed:\", cube(8))"
   ]
  },
  {
   "cell_type": "markdown",
   "id": "1207bdfe",
   "metadata": {},
   "source": [
    "Arguments can have default values: if the argument is not passed , then it takes the specified value with \"=\""
   ]
  },
  {
   "cell_type": "code",
   "execution_count": null,
   "id": "5c86e481",
   "metadata": {},
   "outputs": [],
   "source": [
    "def multiply(x: int, y: int = 1) -> int:\n",
    "    return x * y\n",
    "\n",
    "print(\"multiply(8):\", multiply(8))\n",
    "print(\"multiply(4, 77):\", multiply(4, 77))"
   ]
  },
  {
   "cell_type": "markdown",
   "id": "8302f889",
   "metadata": {},
   "source": [
    "If the return value of a function is a sequence, you can unpack it directly"
   ]
  },
  {
   "cell_type": "code",
   "execution_count": null,
   "id": "b561e4c1",
   "metadata": {},
   "outputs": [],
   "source": [
    "def max_and_sum(sequence):\n",
    "    # This is technically returning a tuple\n",
    "    # return (max(sequence), sum(sequence))\n",
    "    # But the syntax allows omitting the parentheses\n",
    "    return (max(sequence), sum(sequence))\n",
    "\n",
    "a_list = [1, 2, 3, 4, 77, 1]\n",
    "maximum, total = max_and_sum(a_list)\n",
    "print(\"a_list:\", a_list)\n",
    "print(\"maximum element:\", maximum)\n",
    "print(\"sum of elements:\", total)"
   ]
  },
  {
   "cell_type": "markdown",
   "id": "74aabbe3",
   "metadata": {},
   "source": [
    "In Python, functions are objects as any other and can be passed to another function or returned from one"
   ]
  },
  {
   "cell_type": "code",
   "execution_count": null,
   "id": "ac5ab605",
   "metadata": {},
   "outputs": [],
   "source": [
    "from typing import Callable, Any\n",
    "\n",
    "def triple(x: int) -> int:\n",
    "    return x * 3\n",
    "\n",
    "def apply(elements: list[Any], function: Callable[[Any], Any]) -> list[Any]:\n",
    "    '''\n",
    "    Returns a list whose elements are the return values of calling\n",
    "    function with each element of elements as argument\n",
    "    '''\n",
    "    return [function(element) for element in elements]\n",
    "\n",
    "# 0, 1, 2, 3, 4\n",
    "a_list = [i for i in range(5)]\n",
    "tripled = apply(a_list, triple)\n",
    "\n",
    "print(\"a_list:\", a_list)\n",
    "print(\"tripled:\", tripled)"
   ]
  },
  {
   "cell_type": "code",
   "execution_count": null,
   "id": "bc30085f",
   "metadata": {},
   "outputs": [],
   "source": [
    "# Returns a function that takes an integer and multiplies it by x\n",
    "# The inner function multiple has its own copies of the local variables (the closure)\n",
    "# so the value of x will be stored and used \n",
    "def multiply_func(x: int) -> Callable[[int], int]:\n",
    "    # Functions can be defined anywhere a statement could be,\n",
    "    # such as in other functions\n",
    "    def multiple(n: int):\n",
    "        return n * x\n",
    "    return multiple\n",
    "\n",
    "multiply_by_five = multiply_func(5)\n",
    "multiply_by_minus_three = multiply_func(-3)\n",
    "\n",
    "print(\"8 multiplied by 5:\", multiply_by_five(8))\n",
    "print(\"8 multiplied by -3:\", multiply_by_minus_three(8))"
   ]
  },
  {
   "cell_type": "markdown",
   "id": "5a90af56",
   "metadata": {},
   "source": [
    "### generators\n",
    "A special function with yield statements that returns an iterator. Useful to produce values dynamically without loading all results directy into memory.\n",
    "\n",
    "The iterator is exhausted when the function ends."
   ]
  },
  {
   "cell_type": "code",
   "execution_count": null,
   "id": "fb0f7963",
   "metadata": {},
   "outputs": [],
   "source": [
    "# Returns an iterator over the elements of elements multiplied by n\n",
    "def multiplied(elements: list[int], n: int):\n",
    "    for element in elements:\n",
    "        yield element * n\n",
    "\n",
    "a_list = [x for x in range(4)]\n",
    "it = multiplied(a_list, 11)\n",
    "\n",
    "# it is an iterator, and cannot be indexed nor are its element computed beforehand\n",
    "print(it)\n",
    "\n",
    "for elem in it:\n",
    "    print(elem)\n",
    "\n",
    "print(\"======\")\n",
    "# This would be roughly equivalent to\n",
    "for elem in [x * 11 for x in range(4)]:\n",
    "    print(elem)"
   ]
  },
  {
   "cell_type": "markdown",
   "id": "5e902518",
   "metadata": {},
   "source": [
    "### Exceptions\n",
    "\n",
    "Objects that are thrown to react to unexpected conditions during execution and interrupt control flow. They can be captured to execute some code to try to recover from the error. For our purposes, we only need to know that they exist and how do they work."
   ]
  },
  {
   "cell_type": "code",
   "execution_count": null,
   "id": "94c0c7bf",
   "metadata": {},
   "outputs": [],
   "source": [
    "def factorial(n : int) -> int:\n",
    "    if n < 0:\n",
    "        # Exceptions are thrown with the raise keyword\n",
    "        raise ValueError(\"n < 0\")\n",
    "    total = 1\n",
    "    while n > 1:\n",
    "        total *= n\n",
    "        n -= 1\n",
    "    return total\n",
    "\n",
    "# This will raise an exception\n",
    "print(\"Factorial of -3:\", factorial(-3))"
   ]
  },
  {
   "cell_type": "markdown",
   "id": "1fc5378d",
   "metadata": {},
   "source": [
    "### bytes\n",
    "\n",
    "Since we want to encrypt text, we will need to translate it to a format that can be processed numerically. We will select an octet string.\n",
    "<br><br>\n",
    "To display text, most systems use an _encoding_, that translates byte code points to glyphs (the characters as seen on screen). ASCII is too limited since it does not support non-english characters, so there are alternatives such as UTF-8."
   ]
  },
  {
   "cell_type": "markdown",
   "id": "46dedc69",
   "metadata": {},
   "source": [
    "In python, we can use the _encode_ method of strings to obtain the code points corresponding to the string in a particular encoding. The result is an object of type _bytes_."
   ]
  },
  {
   "cell_type": "code",
   "execution_count": null,
   "id": "3d8c7973",
   "metadata": {},
   "outputs": [],
   "source": [
    "message = \"Hola, buenos días\"\n",
    "encoded = message.encode(\"utf-8\")\n",
    "\n",
    "# When printed, bytes objects in Python automatically translate\n",
    "# ASCII code points\n",
    "# Note the leading 'b', this signals that\n",
    "# we are dealing with a literal of type bytes\n",
    "print(\"Bytes of message in UTF-8:\", encoded)"
   ]
  },
  {
   "cell_type": "markdown",
   "id": "c7a1a0ae",
   "metadata": {},
   "source": [
    "bytes objects are immutable sequences, whose values are unsigned integers corresponding to the value of the byte in decimal."
   ]
  },
  {
   "cell_type": "code",
   "execution_count": null,
   "id": "eb9b7188",
   "metadata": {},
   "outputs": [],
   "source": [
    "message = \"Höla\"\n",
    "encoded = message.encode(\"utf-8\")\n",
    "\n",
    "print(\"Encoded bytes:\", encoded)\n",
    "print(\"First element of encoded:\", encoded[0])\n",
    "\n",
    "for i, byte in enumerate(encoded):\n",
    "    print(\"Byte {}: {}\".format(i, byte))"
   ]
  },
  {
   "cell_type": "markdown",
   "id": "69e6e79e",
   "metadata": {},
   "source": [
    "bytes objects have a decode method that translates to a string using a particular encoding."
   ]
  },
  {
   "cell_type": "code",
   "execution_count": null,
   "id": "b7f6bd24",
   "metadata": {},
   "outputs": [],
   "source": [
    "message = \"Смерть Ивана Ильича\"\n",
    "encoded = message.encode(\"utf-8\")\n",
    "\n",
    "print(\"original:\", message)\n",
    "print(\"UTF-8 encoded:\", encoded)\n",
    "print(\"UTF-8 decoded:\", encoded.decode(\"utf-8\"))\n",
    "# Different encodings have different code point values for characters\n",
    "print(\"UTF-16 decoded:\", encoded.decode(\"utf-16LE\"))"
   ]
  },
  {
   "cell_type": "markdown",
   "id": "2cf89019",
   "metadata": {},
   "source": [
    "## Math operations\n",
    "\n",
    "Here we will see some mathematical operations that will be useful for programming the exercises."
   ]
  },
  {
   "cell_type": "markdown",
   "id": "aab0d90d",
   "metadata": {},
   "source": [
    "To compute the greatest common divisor and least common multiple"
   ]
  },
  {
   "cell_type": "code",
   "execution_count": null,
   "id": "ad6bde15",
   "metadata": {},
   "outputs": [],
   "source": [
    "import math\n",
    "\n",
    "a = 345\n",
    "b = 140\n",
    "\n",
    "print(\"Greatest common divisor of {} and {}:\".format(a, b), math.gcd(a, b))\n",
    "print(\"Least common multiple of {} and {}:\".format(a, b), math.lcm(a, b))"
   ]
  },
  {
   "cell_type": "markdown",
   "id": "34e5f764",
   "metadata": {},
   "source": [
    "To obtain quotient and remainder of division"
   ]
  },
  {
   "cell_type": "code",
   "execution_count": null,
   "id": "d31b7b1f",
   "metadata": {
    "scrolled": true
   },
   "outputs": [],
   "source": [
    "a = 4562\n",
    "b = 233\n",
    "\n",
    "quotient, remainder = divmod(a, b)\n",
    "alt_quotient = a // b\n",
    "alt_remainder = a % b\n",
    "\n",
    "print(\"{} is equal to {} * {} + {}\".format(a, b, quotient, remainder))\n",
    "print(\"{} is equal to {} * {} + {}\".format(a, b, alt_quotient, alt_remainder))"
   ]
  },
  {
   "cell_type": "markdown",
   "id": "f8501480",
   "metadata": {},
   "source": [
    "Modular arithmetic"
   ]
  },
  {
   "cell_type": "code",
   "execution_count": null,
   "id": "dd1c1d56",
   "metadata": {},
   "outputs": [],
   "source": [
    "a = 4562\n",
    "b = 67\n",
    "m = 74733\n",
    "\n",
    "# The function pow takes an optional third argument that sets the modulo\n",
    "print(\"{} ^ {} mod {}:\".format(a, b, m), pow(a, b, m))\n",
    "\n",
    "# The inverse is exponent -1 so it works too\n",
    "inverse = pow(a, -1, m)\n",
    "print(\"Inverse of {} mod {}:\".format(a, m), inverse)\n",
    "print(\"{} * {} mod {}:\".format(a, inverse, m), (a * inverse) % m)"
   ]
  },
  {
   "cell_type": "markdown",
   "id": "ab9d0f4c",
   "metadata": {},
   "source": [
    "Several functions are better optimized than chaining operators since the make use of specialized algorithms"
   ]
  },
  {
   "cell_type": "code",
   "execution_count": null,
   "id": "edd39ea3",
   "metadata": {},
   "outputs": [],
   "source": [
    "%timeit pow(2 ** 2048, 754, 3 ** 777)"
   ]
  },
  {
   "cell_type": "code",
   "execution_count": null,
   "id": "2a31e007",
   "metadata": {},
   "outputs": [],
   "source": [
    "%timeit ((2 ** 2048) ** 754) % (3 ** 777)"
   ]
  },
  {
   "cell_type": "markdown",
   "id": "c87813cf",
   "metadata": {},
   "source": [
    "Random number generation"
   ]
  },
  {
   "cell_type": "code",
   "execution_count": null,
   "id": "818a92c6",
   "metadata": {
    "scrolled": true
   },
   "outputs": [],
   "source": [
    "# The default random module is not to be used in security applications, see:\n",
    "# https://peps.python.org/pep-0506/#frequently-asked-questions\n",
    "# This does not really matter for our purposes, but should be taken into account\n",
    "import secrets\n",
    "import math\n",
    "\n",
    "# random number with k bits\n",
    "# Note: this does not mean that the number requires k bits to be represented\n",
    "# if it is necessary to ensure the number is above or below a certain value\n",
    "# it must be done by the programmer\n",
    "r = secrets.randbits(1024)\n",
    "print(\"Random bits:\", r)\n",
    "print(\"base 2 log of r:\", math.log2(r))\n",
    "\n",
    "\n",
    "# random number in [0, threshold)\n",
    "r = secrets.randbelow(10 ** 6)\n",
    "print(\"Random number below 10 ** 6\")"
   ]
  },
  {
   "cell_type": "code",
   "execution_count": null,
   "id": "4721f118",
   "metadata": {},
   "outputs": [],
   "source": []
  }
 ],
 "metadata": {
  "kernelspec": {
   "display_name": "Python 3 (ipykernel)",
   "language": "python",
   "name": "python3"
  },
  "language_info": {
   "codemirror_mode": {
    "name": "ipython",
    "version": 3
   },
   "file_extension": ".py",
   "mimetype": "text/x-python",
   "name": "python",
   "nbconvert_exporter": "python",
   "pygments_lexer": "ipython3",
   "version": "3.11.0"
  }
 },
 "nbformat": 4,
 "nbformat_minor": 5
}
