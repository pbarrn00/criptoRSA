{
 "cells": [
  {
   "cell_type": "markdown",
   "id": "c3b82fd5",
   "metadata": {},
   "source": [
    "# RSA implementation\n",
    "\n",
    "Now, we will take a look at a sample implementation of RSA and some hurdles we have to overcome in the process\n",
    "\n",
    "We have three steps to take care of:\n",
    "\n",
    "1. Key generation\n",
    "2. Encryption\n",
    "3. Decryption"
   ]
  },
  {
   "cell_type": "markdown",
   "id": "8149b527",
   "metadata": {},
   "source": [
    "## Key generation\n",
    "\n",
    "The most difficult and complex part, not only of RSA, but also of many other cryptographic schemes. Many attacks are based on a poor choice of parameters, which the implementer may not take into account. See: https://crypto.stanford.edu/~dabo/papers/RSA-survey.pdf\n",
    "\n",
    "* If $p$ and $q$ are close to each other $n = pq$ may be factorized with Fermat's factorization algorithm\n",
    "* If $p - 1$ or $q - 1$ is composed of small factors $\\rho$ Pollard's may be applied\n",
    "* If the computed private key $d$ is small ($d < \\frac{1}{3}n^{\\frac{1}{4}}$), Wiener's attack may be used to expose $d$\n",
    "* If the public exponent $e$ is small Copperfield's method could recover the message. If $M^e < n$ then $M$ could be easily factored\n",
    "* ... and more I may have missed\n",
    "<br><br>\n",
    "This is why many manuals advise against trying to program a cryptographic solution from scratch."
   ]
  },
  {
   "cell_type": "markdown",
   "id": "e0f7522d",
   "metadata": {},
   "source": [
    "What we can do is to follow standards and guidelines. For this example, we will use the National Institute of Standards and Technology's (NIST) Federal Information Processing Standards (FIPS). FIPS 186-4 contains guidelines for implementing generation of RSA keys.\n",
    "\n",
    "<br>\n",
    "The standard takes into account the above concerns and provides algorithms for the generation of secure values of $p$, $q$ and $e$. In particular:\n",
    "\n",
    "* $2^{16} < e < 2 ^ {256}$, though no reason is given for this range of values other than having a large enough magnitude of $e$. In fact the standard requires $e$ to be chosen beforehand.\n",
    "* $|p - q| > 2 ^{bitlength / 2 - 100}$, to ensure that $p$ and $q$ are not too close (note that recommended bitlengths are of 2048)\n",
    "* $\\sqrt{2} * 2 ^ {bitlength / 2} < p < 2 ^{bitlength / 2} - 1$ and $\\sqrt{2} * 2 ^ {bitlength / 2} < q < 2 ^{bitlength / 2} - 1$ to ensure $n$ has the proper bitlength and $q$ and $p$ are both big enough\n",
    "* $2 ^{bitlength / 2} < d < LCM(p - 1, q - 1)$"
   ]
  },
  {
   "cell_type": "markdown",
   "id": "75ec2dd8",
   "metadata": {},
   "source": [
    "$p$ and $q$ are generated randomly and therefore we need to test whether, in addition to the previous conditions, are prime. So we need a primality test and a safe random bit (number) generator.\n",
    "\n",
    "<br>\n",
    "We will start with the primality test. There are deterministic primality tests that ensure the number is prime. For our purposes probabilistic tests are good enough and simpler and they are also recognized by the standard."
   ]
  },
  {
   "cell_type": "code",
   "execution_count": null,
   "id": "7ce8466b",
   "metadata": {},
   "outputs": [],
   "source": [
    "import secrets\n",
    "\n",
    "def power_mod(base: int, exp: int, m: int) -> int:\n",
    "    '''\n",
    "    Compute (base ** exp) % m\n",
    "\n",
    "    Parameters\n",
    "    ----------\n",
    "    base : int\n",
    "        Base\n",
    "    power : int\n",
    "        Exponent\n",
    "    m : int\n",
    "        Modulo\n",
    "\n",
    "    Returns\n",
    "    -------\n",
    "    int\n",
    "        Result\n",
    "    '''\n",
    "    return pow(base, exp, m)\n",
    "\n",
    "def bitlength(n: int) -> int:\n",
    "    '''\n",
    "    Return the number of bits required to represent n\n",
    "\n",
    "    Parameters\n",
    "    ----------\n",
    "    n : int\n",
    "        number\n",
    "\n",
    "    Returns\n",
    "    -------\n",
    "    int\n",
    "        Number of bits to represent n\n",
    "    '''\n",
    "    return n.bit_length()"
   ]
  },
  {
   "cell_type": "code",
   "execution_count": null,
   "id": "eba58297",
   "metadata": {},
   "outputs": [],
   "source": [
    "# Some illustration\n",
    "print(\"3 ^ 4 mod 31:\", power_mod(3, 4, 31))\n",
    "print(\"bitlength of 2 ** 5 - 1:\", bitlength(2 ** 5 - 1))\n",
    "print(\"bitlength of 2 ** 5:\", bitlength(2 ** 5))"
   ]
  },
  {
   "cell_type": "code",
   "execution_count": null,
   "id": "6a89144d",
   "metadata": {},
   "outputs": [],
   "source": [
    "def miller_rabin(w: int, k: int = 10) -> bool:\n",
    "    '''\n",
    "    Computes the Miller-Rabin primality test for n. k is the number of rounds\n",
    "    to be executed, a greater number increases the probability that n is actually\n",
    "    prime is the test is positive.\n",
    "\n",
    "    Parameters\n",
    "    ----------\n",
    "    w : int\n",
    "        Number to be tested for primality.\n",
    "    k : int, optional\n",
    "        Number of rounds of the algorithm. The default is 32.\n",
    "\n",
    "    Returns\n",
    "    -------\n",
    "    bool: whether n passes the test\n",
    "    '''\n",
    "    # We simply shotcircuit some easy problems\n",
    "    if w in [2, 3, 5, 7]:\n",
    "        return True\n",
    "    # If n is divisible by two do not bother with the algorithm: it is not prime\n",
    "    if w % 2 == 0:\n",
    "        return False\n",
    "    a = 0\n",
    "    m = w - 1\n",
    "    while m % 2 == 0:\n",
    "        a += 1\n",
    "        m //= 2\n",
    "    \n",
    "    wlen = bitlength(w)\n",
    "    for _ in range(k):\n",
    "        b = secrets.randbits(wlen)\n",
    "        while b <= 1 or b >= w - 1:\n",
    "            b = secrets.randbits(wlen)\n",
    "        z = power_mod(b, m, w)\n",
    "        if z == 1 or z == w - 1:\n",
    "            continue\n",
    "        i = 0\n",
    "        while i < a - 1 and z != 1:\n",
    "            z = power_mod(z, 2, w)\n",
    "            if z == w - 1:\n",
    "                break\n",
    "            i += 1\n",
    "        else:\n",
    "            return False\n",
    "    return True"
   ]
  },
  {
   "cell_type": "code",
   "execution_count": null,
   "id": "1708f12d",
   "metadata": {},
   "outputs": [],
   "source": [
    "# we throw a couple of quick tests\n",
    "print(\"34 is probably prime:\", miller_rabin(34))\n",
    "print(\"2 ** 456 * 3 is probably prime:\", miller_rabin(2 ** 456 * 3))\n",
    "print(\"5952322734258198408259587570747479451304815439783987563217060625033 is probably prime:\", \n",
    "      miller_rabin(5952322734258198408259587570747479451304815439783987563217060625033))"
   ]
  },
  {
   "cell_type": "markdown",
   "id": "602f1397",
   "metadata": {},
   "source": [
    "For probabilisitic primality tests, it is important to have an estimation of the error. For the Miller-Rabin test, the FIPS gives a way to estimate the number of iterations required to have a concrete error bound. The formula is complex, but we can implement it for convenience, rather than having to refer to a precomputed table."
   ]
  },
  {
   "cell_type": "code",
   "execution_count": null,
   "id": "70abe7d6",
   "metadata": {},
   "outputs": [],
   "source": [
    "from decimal import Decimal, getcontext\n",
    "import math\n",
    "\n",
    "# We fix 2 ** - 128 to correspond with the estimated 128 bits of security\n",
    "# An attacker can succeed in 2 ** bits_of_security operations\n",
    "def estimate_k(bits: int, error : float = 2 ** -128) -> int:\n",
    "    '''\n",
    "    Compute the number of iterations of Miller-Rabin necessary to get a \n",
    "    probability of having a composite number with bits bits \n",
    "    passing the test lower than error.\n",
    "\n",
    "    Parameters\n",
    "    ----------\n",
    "    bits : int\n",
    "        Number of bits of the number to be tested\n",
    "    error : TYPE, optional\n",
    "        Upper bound on the probability of a composite number passing the test.\n",
    "        The default is 2 ** -128.\n",
    "\n",
    "    Returns\n",
    "    -------\n",
    "    int\n",
    "        Number of iterations of Miller-Rabin.\n",
    "    '''\n",
    "    max_t = math.ceil(- math.log2(error) / 2)\n",
    "    max_m = math.floor(2 * math.sqrt(bits - 1) - 1)\n",
    "    for t in range(1, max_t):\n",
    "        for M in range(3, max_m):\n",
    "            first = Decimal(2.00743 * math.log(2) * bits) * pow(Decimal(2), -bits)\n",
    "            summatory = sum(\n",
    "                (\n",
    "                    Decimal(2 ** (m - (m - 1) * t)) \n",
    "                    * sum(\n",
    "                         Decimal(1 / Decimal(2) ** Decimal(j + (bits - 1) / j)) \n",
    "                         for j in range(2, m + 1)\n",
    "                    )\n",
    "                 )\n",
    "                for m in range(3, M + 1)\n",
    "            )\n",
    "            summand = pow(Decimal(2), bits - 2 - M * t) \n",
    "            factor = (\n",
    "                Decimal(8 * (math.pi ** 2 - 6) / 3) * pow(Decimal(2), bits - 2)\n",
    "            )\n",
    "            \n",
    "            estimate = first * (summand + factor * summatory)\n",
    "            if estimate < error:\n",
    "                return t\n",
    "    return max_t"
   ]
  },
  {
   "cell_type": "code",
   "execution_count": null,
   "id": "3dec2dc5",
   "metadata": {
    "scrolled": true
   },
   "outputs": [],
   "source": [
    "# Test whether the estimate corresponds to NIST's estimates\n",
    "print(\"For error bound 2 ** -100 with 512 bits:\", estimate_k(512, 2 ** -100))\n",
    "print(\"For error bound 2 ** -100 with 1024 bits:\", estimate_k(1024, 2 ** -100))\n",
    "print(\"For error bound 2 ** -100 with 1536 bits:\", estimate_k(1536, 2 ** -100))"
   ]
  },
  {
   "cell_type": "markdown",
   "id": "eb97a930",
   "metadata": {},
   "source": [
    "With the preliminaries done, we implement a function that returns a random probable prime (note the difference with _provable_ prime)"
   ]
  },
  {
   "cell_type": "code",
   "execution_count": null,
   "id": "86cf6f69",
   "metadata": {},
   "outputs": [],
   "source": [
    "from typing import Callable\n",
    "\n",
    "def random_odd_number_nbits(nbits: int) -> Callable[[], int]:\n",
    "    '''\n",
    "    Returns a function that takes no arguments and returns a random odd number\n",
    "    with nbits number of bits\n",
    "\n",
    "    Parameters\n",
    "    ----------\n",
    "    nbits : int\n",
    "        Number of bits\n",
    "\n",
    "    Returns\n",
    "    -------\n",
    "    (Callable[[], int])\n",
    "        Function that returns a random number\n",
    "    '''\n",
    "    return lambda: secrets.randbits(nbits) | 1\n",
    "\n",
    "def random_probable_prime(generator_func: Callable[[], int], k: int = 50, \n",
    "                          test_func: Callable[[int], bool] = None,\n",
    "                          limit: int = 30000) -> int:\n",
    "    '''\n",
    "    Generate a random prime number with a set number of bits \n",
    "\n",
    "    Parameters\n",
    "    ----------\n",
    "    bits : int\n",
    "        Number of bits of the number\n",
    "    k: int\n",
    "        Number of iterations of Miller-Rabin test for primality\n",
    "    test_func : Callable[[int], bool], optional\n",
    "        Defines other criteria for acceptance of the random number.\n",
    "        If the returned value is False the number is discarded\n",
    "    limit : int\n",
    "        Maximum number of randomdonly generated numbers to be tested.\n",
    "        If no number satisfies the criteria, raise a ValueError\n",
    "\n",
    "\n",
    "    Returns\n",
    "    -------\n",
    "    A random prime number of the desired number of bits\n",
    "\n",
    "    '''\n",
    "    test_func = (lambda x: True) if test_func is None else test_func\n",
    "\n",
    "    i = 0     \n",
    "    while True:\n",
    "        random_number = generator_func()\n",
    "        \n",
    "        if test_func(random_number) and miller_rabin(random_number, k=k):\n",
    "            return random_number\n",
    "        if limit is not None:\n",
    "            i += 1\n",
    "            if i > limit:\n",
    "                raise ValueError(\"Could not find a random number satisfying properties\")"
   ]
  },
  {
   "cell_type": "code",
   "execution_count": null,
   "id": "a7644e67",
   "metadata": {},
   "outputs": [],
   "source": [
    "rand_100 = random_odd_number_nbits(100)\n",
    "rand_6 = random_odd_number_nbits(6)\n",
    "\n",
    "random_bits_6 = rand_6()\n",
    "random_bits_100 = rand_100()\n",
    "\n",
    "print(\"Integer value of 6 random bits:\", random_bits_6)\n",
    "print(\"Integer value of 100 random bits:\", random_bits_100)\n",
    "\n",
    "print(\"Number of bits required to represent the random 6 bits:\", bitlength(random_bits_6))\n",
    "print(\"Number of bits required to represent the random 100 bits:\", bitlength(random_bits_100))"
   ]
  },
  {
   "cell_type": "code",
   "execution_count": null,
   "id": "e9132c00",
   "metadata": {},
   "outputs": [],
   "source": [
    "# Some tests\n",
    "bit_size = 512\n",
    "r1 = random_probable_prime(random_odd_number_nbits(bit_size), estimate_k(bit_size, 1e-40))\n",
    "print(\"random probable prime of 512 bits:\", r1)\n",
    "\n",
    "# Pass a function to limit acceptable values\n",
    "r2 = random_probable_prime(random_odd_number_nbits(bit_size), estimate_k(bit_size, 1e-40), \n",
    "                           lambda candidate: candidate >= 2 ** (bit_size - 1))\n",
    "print(\"random probable prime of 512 bits greater than 2 ** 511:\", r2)\n",
    "\n",
    "print(\"number of bits required for r1:\", bitlength(r1))\n",
    "print(\"number of bits required for r2:\", bitlength(r2))"
   ]
  },
  {
   "cell_type": "code",
   "execution_count": null,
   "id": "8bdd8c19",
   "metadata": {},
   "outputs": [],
   "source": [
    "# Equivalent condition\n",
    "r2 = random_probable_prime(random_odd_number_nbits(bit_size), 50, \n",
    "                           lambda candidate: bitlength(candidate) == bit_size)\n",
    "print(\"random probable prime of 512 bits greater than 2 ** 511:\", r2)\n",
    "print(\"number of bits required for r2:\", bitlength(r2))"
   ]
  },
  {
   "cell_type": "markdown",
   "id": "5b6ad6c1",
   "metadata": {},
   "source": [
    "Now, we implement the key generation of RSA.\n",
    "\n",
    "<br>\n",
    "A note on the default value of $e$. It is chosen since is big enough according to the standard and has only two bits set to 1, which accelerates fast modular exponentiation based on the binary notation of the exponent: \n",
    "\n",
    "https://en.wikipedia.org/wiki/Modular_exponentiation#Right-to-left_binary_method\n",
    "<br>\n",
    "https://es.planetcalc.com/8979/"
   ]
  },
  {
   "cell_type": "code",
   "execution_count": null,
   "id": "b3e17b50",
   "metadata": {},
   "outputs": [],
   "source": [
    "print(\"2 ** 16 + 1 in binary:\", bin(2 ** 16 + 1))\n",
    "print(\"2 ** 16 - 1 in binary:\", bin(2 ** 16 - 1))"
   ]
  },
  {
   "cell_type": "code",
   "execution_count": null,
   "id": "bcd04ae9",
   "metadata": {},
   "outputs": [],
   "source": [
    "%timeit power_mod(2 ** 1024, 2 ** 16 + 1, 3 ** 222)"
   ]
  },
  {
   "cell_type": "code",
   "execution_count": null,
   "id": "2c29fd82",
   "metadata": {},
   "outputs": [],
   "source": [
    "%timeit power_mod(2 ** 1024, 2 ** 16 - 1, 3 ** 222)"
   ]
  },
  {
   "cell_type": "code",
   "execution_count": null,
   "id": "2c38bc98",
   "metadata": {},
   "outputs": [],
   "source": [
    "import warnings\n",
    "\n",
    "def multiplicative_inverse(number: int, m: int = None) -> int:\n",
    "    '''\n",
    "    Computes (number ** -1) % modulo\n",
    "    '''\n",
    "    return power_mod(number, -1, m)\n",
    "\n",
    "def coprimes(a: int, b: int) -> bool:\n",
    "    '''\n",
    "    Tests whether a and b are coprimes\n",
    "    '''\n",
    "    return math.gcd(a, b) == 1"
   ]
  },
  {
   "cell_type": "code",
   "execution_count": null,
   "id": "d74a28cb",
   "metadata": {},
   "outputs": [],
   "source": [
    "print(\"Inverse of 5 mod 77:\", multiplicative_inverse(5, 77))\n",
    "print(\"Are 12 and 34 coprimes:\", coprimes(12, 34))\n",
    "print(\"Are 5 and 111 coprimes:\", coprimes(5, 111))"
   ]
  },
  {
   "cell_type": "code",
   "execution_count": null,
   "id": "0e528bbe",
   "metadata": {},
   "outputs": [],
   "source": [
    "def rsa_keygen(nlen: int = 2048, e: int = 2 ** 16 + 1, tries : int = 30000) -> tuple[tuple[int, int], int]:\n",
    "    '''\n",
    "    Compute public and private keys for RSA\n",
    "\n",
    "    Parameters\n",
    "    ----------\n",
    "    nlen : int\n",
    "        Number of bits of n\n",
    "    e: int\n",
    "        Public exponent.\n",
    "    tries : int. Default is 30000\n",
    "        The number of randomly generated numbers to be tested for p and q\n",
    "        in each iteration.\n",
    "        If a number of random numbers equal to tries is generated, raise an\n",
    "        error.\n",
    "    Returns\n",
    "    -------\n",
    "    n, e, d:\n",
    "        (n, e) is the public key and d the private key\n",
    "    '''\n",
    "    # This is a particularity of our implementation, we will see why\n",
    "    if nlen < 9:\n",
    "        raise ValueError(\"Number of bits of n must be greater than 8\")\n",
    "    # Why?\n",
    "    if e % 2 != 1:\n",
    "        raise ValueError(\"e should be odd\")\n",
    "    # We are not going to enforce these limits, but they are NIST's recommendations\n",
    "    if e <= 2 ** 16 or e >= 2 ** 256:\n",
    "        warnings.warn(\"exponent e should be an odd integer between 2 ** 16 and 2 ** 256, got {}\".format(e))\n",
    "    if nlen not in [2048, 3072, 4096]:\n",
    "        warnings.warn(\"bitlen should be in [2048, 3072, 4096], got {}\".format(nlen))\n",
    "    \n",
    "    # Have to ensure p * q has nlen bits\n",
    "    p_size = math.ceil(nlen / 2)\n",
    "    q_size = nlen - p_size\n",
    "    \n",
    "    # NIST restrictions to ensure p and q are big enough but not too close\n",
    "    # Why those values?\n",
    "    min_p = Decimal(2 ** (p_size - 1)) * Decimal(2).sqrt()\n",
    "    min_q = Decimal(2 ** (q_size - 1)) * Decimal(2).sqrt()\n",
    "    min_d = 2 ** (nlen // 2)\n",
    "    p_q_diff = Decimal(2) ** Decimal(nlen / 2 - 100)\n",
    "    \n",
    "    # Ensure we mimimize the probabilities of error in the primality test\n",
    "    k = estimate_k(nlen, 2 ** - 128)\n",
    "    \n",
    "    valid_d = False\n",
    "    # d must not be too small and the number of bits of n must be exactly nlen\n",
    "    # in accordance to NIST specifications\n",
    "    while not valid_d:\n",
    "        def valid_p(p_candidate):\n",
    "            return p_candidate >= min_p and coprimes(p_candidate - 1, e)\n",
    "        \n",
    "        p = random_probable_prime(random_odd_number_nbits(p_size),\n",
    "                                  k = k, test_func = valid_p, limit = tries)            \n",
    "        \n",
    "        def valid_q(q_candidate):\n",
    "            return (\n",
    "                q_candidate >= min_q\n",
    "                and coprimes(q_candidate - 1, e)\n",
    "                and abs(p - q_candidate) >= p_q_diff\n",
    "            )\n",
    "        \n",
    "        q = random_probable_prime(random_odd_number_nbits(q_size), k = k, \n",
    "                                  test_func = valid_q, limit = tries)\n",
    "        \n",
    "        # Preserves properties of RSA and gives smaller values of d, which accelerates computations\n",
    "        carmichael_lambda = math.lcm(p - 1, q - 1)\n",
    "        d = multiplicative_inverse(e, carmichael_lambda)\n",
    "        n = p * q\n",
    "        \n",
    "        # Check loop conditions\n",
    "        valid_d = d > min_d\n",
    "    return (n, e), d"
   ]
  },
  {
   "cell_type": "code",
   "execution_count": null,
   "id": "aa663e62",
   "metadata": {},
   "outputs": [],
   "source": [
    "(n, e), d = rsa_keygen(16)\n",
    "print(\"n:\", n, \"e:\", e, \"d:\", d)\n",
    "\n",
    "print(\"======================\")\n",
    "# There is a clear difference in execution time\n",
    "(n, e), d = rsa_keygen(1024)\n",
    "print(\"n:\", n)\n",
    "print(\"e:\", e)\n",
    "print(\"d:\", d)"
   ]
  },
  {
   "cell_type": "markdown",
   "id": "c2ac4cb2",
   "metadata": {},
   "source": [
    "**Why are values of $p$ and $q$ selected to be greater than $2^{psize - 1}\\sqrt{2}$ and $2^{psize - 1}\\sqrt{2}$ respectively?**\n",
    "<br><br>\n",
    "To ensure that the value of $n$ is of $nlen = psize + \\text{ } qsize$ bits\n",
    "<br><br>\n",
    "Since $n = pq$ the minimum value of $n$ for these restrictions would be:\n",
    "\n",
    "$$\n",
    "n_{min} = p_{min}q_{min} = 2^{psize - 1}\\sqrt{2} * 2^{psize - 1}\\sqrt{2} = 2 * 2^{psize + qsize - 2} = 2 ^{nlen - 1}\n",
    "$$\n",
    "\n",
    "With $nlen$ bits we can represent values in the interval $[2^{nlen - 1}, 2^{nlen} - 1)$, so the minimum value of $n$, $n_{min}$ is exactly the minimum value we need $nlen$ bit to store."
   ]
  },
  {
   "cell_type": "markdown",
   "id": "4437b1da",
   "metadata": {},
   "source": [
    "## Encryption\n",
    "\n",
    "Key generation is done, and now we need to implement encryption and decryption. The arithmetic itself is easy since the programming language does the heavy lifting, but we need to decide how are we going to deal with text. \n",
    "<br><br>\n",
    "Using base 26 to encode characters would be too limited and ASCII does not support tildes or ñ. String characters are internally stored as sequences of bytes, which are given a representation according to a particular encoding."
   ]
  },
  {
   "cell_type": "code",
   "execution_count": null,
   "id": "e33dca5e",
   "metadata": {},
   "outputs": [],
   "source": [
    "a_string = \"这他妈是什么意\"\n",
    "print(\"The original string:\", a_string)\n",
    "\n",
    "encoding = a_string.encode(\"utf-16LE\")\n",
    "print(\"The code points of the string in utf-16:\", encoding)"
   ]
  },
  {
   "cell_type": "markdown",
   "id": "3ef23887",
   "metadata": {},
   "source": [
    "What we are going to do is to operate in base $2^8$, that way, we can deal with any posible byte and therefore, with any possible character.\n",
    "<br><br>\n",
    "Another question to solve is to determine the conversion from bytes to numeric blocks ($M < n$, so an appropriate block size must be chosen) and from the encrypted blocks to bytes."
   ]
  },
  {
   "cell_type": "markdown",
   "id": "70af043b",
   "metadata": {},
   "source": [
    "To convert from bytes to blocks we will simply convert the bytes to base $2^8$ considering a little endian representation:\n",
    "\n",
    "$$\n",
    "bytes = [0xFA, 0x12, 0x01]\n",
    "$$\n",
    "\n",
    "$$\n",
    "value = 0x01 * (2^{8})^0 + 0x12 * (2 ^{8}) ^ 1 + 0xFA * (2 ^{8}) ^2\n",
    "$$\n",
    "\n",
    "Since we want to ensure $M < n$ we will choose a number of bytes lower than the number of bytes required to store $n$\n",
    "\n",
    "$$\n",
    "blocksize = \\lceil bitlength(n)/ 8 - 1 \\rceil\n",
    "$$\n",
    "\n",
    "An example:\n",
    "\n",
    "$$\n",
    "n = 352\n",
    "$$\n",
    "$$\n",
    "bitlength(n) = 9\n",
    "$$\n",
    "\n",
    "Therefore 2 bytes of storage are required. The size of the block of bytes we convert to integer is:\n",
    "\n",
    "$$\n",
    "blocksize =  \\lceil bitlength(n)/ 8 - 1 \\rceil = 1\n",
    "$$\n",
    "$$\n",
    "block\\_max\\_value = 2^8 - 1 < n\n",
    "$$\n",
    "\n",
    "<br><br>\n",
    "This has the implication that our implementation of RSA will require at least 9 bits in $n$, otherwise, we would select a block size of 0 bytes."
   ]
  },
  {
   "cell_type": "markdown",
   "id": "1a29c41e",
   "metadata": {},
   "source": [
    "We still have one problem, though. $M^e \\text{ } mod \\text{ } n$ may well a number of bits greater than our $blocksize$ for storage.\n",
    "<br><br>\n",
    "For example $n = 2479$, $blocksize = 1$, $e = 47$, $M = 78$\n",
    "\n",
    "$$\n",
    "M^e \\equiv 1945 \\text{ } mod \\text{ } n\n",
    "$$\n",
    "\n",
    "$2 ^{10} = 1024 < 1945 < 2 ^{11} = 2048$, so we need 10 bits of storage. Therefore, each encrypted numeric message will have to be converted to $blocksize + 1$ bytes. This is somewhat inefficient, but RSA is designed to encrypt simple short messages such as symmetric keys not data, so what we are doing is unorthodox."
   ]
  },
  {
   "cell_type": "code",
   "execution_count": null,
   "id": "e1487866",
   "metadata": {},
   "outputs": [],
   "source": [
    "from typing import Iterable\n",
    "\n",
    "def compute_block_size(n: int) -> int:\n",
    "    '''\n",
    "    Compute the size of the blocks of bytes to be converted to\n",
    "    integers. The appropriate size for the encrypted blocks will\n",
    "    be compute_block_size(n) + 1, to accomodate any possible value\n",
    "    block_val < n\n",
    "    '''\n",
    "    quotient, remainder = divmod(bitlength(n), 8)\n",
    "    if remainder == 0:\n",
    "        quotient -= 1\n",
    "    return quotient\n",
    "\n",
    "def from_base_factors(factors: Iterable[int], base: int = 2 ** 8) -> int:\n",
    "    '''\n",
    "    Compute decimal value from coefficients located in factors in the selected\n",
    "    base.\n",
    "    \n",
    "    The result is an integer whose value is\n",
    "    factors[0] * base ** 0 + factors[1] * base ** 1, ..., factors[n] * base ** n\n",
    "    '''\n",
    "    total = 0\n",
    "    nfactors = len(factors)\n",
    "    for i, factor in enumerate(factors):\n",
    "        total += factor * base ** (nfactors - i - 1)\n",
    "    return total"
   ]
  },
  {
   "cell_type": "code",
   "execution_count": null,
   "id": "cb959b61",
   "metadata": {},
   "outputs": [],
   "source": [
    "n1 = 312\n",
    "print(\"bitlength of {}:\".format(n1), bitlength(n1))\n",
    "print(\"Block size for n = {}:\".format(n1), compute_block_size(356))\n",
    "\n",
    "n2 = 2 ** 16 - 1\n",
    "print(\"bitlength of {}:\".format(n2), bitlength(n2))\n",
    "print(\"Block size for n = {}:\".format(n2), compute_block_size(n2))"
   ]
  },
  {
   "cell_type": "code",
   "execution_count": null,
   "id": "342e7900",
   "metadata": {},
   "outputs": [],
   "source": [
    "# We take advantage of the fact that bytes are sequences of ints\n",
    "block = b\"hola\"\n",
    "print(\"Block value:\", from_base_factors(block))\n",
    "print(\"Manual block value:\", 104  * 2 ** 24 + 111 * 2 ** 16 + 108 * 2 ** 8 + 97 * 2 ** 0)"
   ]
  },
  {
   "cell_type": "code",
   "execution_count": null,
   "id": "4327210a",
   "metadata": {},
   "outputs": [],
   "source": [
    "factors = [0x01, 0x0F]\n",
    "print(\"Value from factors:\", from_base_factors(factors, base=16))"
   ]
  },
  {
   "cell_type": "code",
   "execution_count": null,
   "id": "19940c53",
   "metadata": {},
   "outputs": [],
   "source": [
    "def iter_blocks(iterable: Iterable, n: int):\n",
    "    '''\n",
    "    Generator that returns blocks of size n from iterable. The last block may\n",
    "    be truncated if the length of the iterable is not divisible by n\n",
    "    '''\n",
    "    if n <= 0:\n",
    "        raise ValueError(\"n must be greater than 0\")\n",
    "    acum = []\n",
    "    for elem in iterable:\n",
    "        acum.append(elem)\n",
    "        if len(acum) == n:\n",
    "            yield acum\n",
    "            acum = []\n",
    "    if acum:\n",
    "        yield acum\n",
    "\n",
    "def block_from_bytes(byt: bytes) -> int:\n",
    "    '''\n",
    "    A simple alias\n",
    "    Translate the bytes to a numeric value in base 2 ** 8.\n",
    "    Bytes are taken in little endian.\n",
    "    '''\n",
    "    return from_base_factors(byt, 2 ** 8)\n",
    "\n",
    "def blocks_from_bytes(by: bytes, block_size: int) -> list:\n",
    "    if block_size <= 0:\n",
    "        raise ValueError(\"Block size must be an integer greater than zero\")\n",
    "        \n",
    "    return [block_from_bytes(byte_block) \n",
    "            for byte_block in iter_blocks(by, block_size)]"
   ]
  },
  {
   "cell_type": "code",
   "execution_count": null,
   "id": "ebec100f",
   "metadata": {},
   "outputs": [],
   "source": [
    "encoded = \"dia\".encode(\"utf-8\")\n",
    "for i, byte_block in enumerate(iter_blocks(encoded, 2)):\n",
    "    print(\"block index: {}:\".format(i), byte_block)"
   ]
  },
  {
   "cell_type": "code",
   "execution_count": null,
   "id": "3b5ba53a",
   "metadata": {},
   "outputs": [],
   "source": [
    "byte_block = b\"hola\"\n",
    "print(\"Numeric value of {}:\".format(byte_block), block_from_bytes(byte_block))"
   ]
  },
  {
   "cell_type": "code",
   "execution_count": null,
   "id": "ad8875d9",
   "metadata": {
    "scrolled": true
   },
   "outputs": [],
   "source": [
    "# block from bytes simply chains previous operations\n",
    "encoded = \"sample\".encode(\"utf-8\")\n",
    "print(\"Integer blocks in {}:\".format(encoded), blocks_from_bytes(encoded, 3))\n",
    "\n",
    "first, second = iter_blocks(encoded, 3)\n",
    "print(\"First block {}:\".format(bytes(first)), 115 * 2 ** 16 + 97 * 2 ** 8 + 109 * 2 ** 0)"
   ]
  },
  {
   "cell_type": "markdown",
   "id": "21154792",
   "metadata": {},
   "source": [
    "RSA applies $M^{exponent} \\text{ mod } n$, with exponent being $e$ or $d$ depending on whether encryption or decryption is applied. Since only the exponent changes, we factor our the operation."
   ]
  },
  {
   "cell_type": "code",
   "execution_count": null,
   "id": "721179b5",
   "metadata": {},
   "outputs": [],
   "source": [
    "def rsa_conversion(by: bytes, n: int, ex: int, extract_blocks_size: int\n",
    "                   ) -> list[int]:\n",
    "    # Transform byte sequence to blocks of integers\n",
    "    blocks = blocks_from_bytes(by, extract_blocks_size)\n",
    "    # Exponentiation modulo n of each block\n",
    "    return [power_mod(block, ex, n) for block in blocks]\n",
    "    \n",
    "\n",
    "def rsa_encrypt(by: bytes, n: int, e: int) -> bytes:\n",
    "    block_size = compute_block_size(n)\n",
    "    encrypted_block_size = block_size + 1\n",
    "    \n",
    "    last_size = len(by) % block_size    \n",
    "    last_size = last_size or block_size\n",
    "    \n",
    "    encrypted = rsa_conversion(by, n, e, block_size)\n",
    "    encrypted = [block.to_bytes(encrypted_block_size, byteorder=\"big\") \n",
    "                 for block in encrypted]\n",
    "    \n",
    "    # We add an additional block with size of the last one.\n",
    "    # This is necessary to properly decrypt leading null bytes\n",
    "    padding_block = rsa_conversion(\n",
    "        last_size.to_bytes(block_size, byteorder=\"big\"), n, e, block_size)\n",
    "    padding_block = [block.to_bytes(encrypted_block_size, byteorder=\"big\")\n",
    "                     for block in padding_block]\n",
    "    encrypted = (b'').join(encrypted + padding_block)\n",
    "    return encrypted"
   ]
  },
  {
   "cell_type": "code",
   "execution_count": null,
   "id": "1d86fdb0",
   "metadata": {},
   "outputs": [],
   "source": [
    "# join simply concatenates\n",
    "byte_blocks = [b\"ab\", b\"\\x68\\x78\", b\"\\x00\"]\n",
    "print(\"Joined byte blocks:\", (b\"\").join(byte_blocks))"
   ]
  },
  {
   "cell_type": "code",
   "execution_count": null,
   "id": "1389b0bc",
   "metadata": {
    "scrolled": true
   },
   "outputs": [],
   "source": [
    "(n, e), d = rsa_keygen(130)\n",
    "message = \"A: Смерть Ивана Ильича\"\n",
    "encoded = message.encode(\"utf-8\")\n",
    "print(\"encoded message:\", encoded)\n",
    "\n",
    "# Note the increased length\n",
    "encrypted = rsa_encrypt(encoded, n, e)\n",
    "print(\"Encrypted message:\", encrypted)\n",
    "print(\"Encrypted length:\", len(encrypted), \"Original length:\", len(encoded))"
   ]
  },
  {
   "cell_type": "markdown",
   "id": "4ce99e9b",
   "metadata": {},
   "source": [
    "It must be noted that in the real world RSA includes padding in the messages: https://www.rfc-editor.org/rfc/rfc8017.\n",
    "<br><br>\n",
    "As we saw, small values of $e$ can create situations in which $M^e < n$ and the message can be obtained by computing an e-th root. Padding can help with that.\n",
    "<br><br>\n",
    "But most importantly, padding can introduce a probabilistic component to the message: a plaintext can correspond to many different ciphertexts, so several attacks are mitigated: common modulus, small $e$, etc.\n",
    "<br><br>\n",
    "We have omitted padding in this implementation for simplicity, but RSA without an appropriate padding scheme is not considered secure."
   ]
  },
  {
   "cell_type": "markdown",
   "id": "c1311d2a",
   "metadata": {},
   "source": [
    "## Decryption\n",
    "\n",
    "We have already defined most operations so at this stage decryption is easy.\n",
    "<br><br>\n",
    "First, we define the auxiliary functions"
   ]
  },
  {
   "cell_type": "code",
   "execution_count": null,
   "id": "66bf1668",
   "metadata": {},
   "outputs": [],
   "source": [
    "def to_base_factors(original: int, base: int = 2 ** 8) -> list[int]:\n",
    "    '''\n",
    "    Compute the coefficients of the decomposition of original in the selected\n",
    "    base. Original is assumed to be decimal.\n",
    "    \n",
    "    The result is a list with the coefficients such that\n",
    "    original = l[0] * base ** (n - 1) + l[1] * base ** (n - 2), ..., l[n] * base ** 0\n",
    "    '''\n",
    "    factors = []\n",
    "    while original > 0:\n",
    "        original, remainder = divmod(original, base)\n",
    "        factors.insert(0, remainder)\n",
    "    return factors"
   ]
  },
  {
   "cell_type": "code",
   "execution_count": null,
   "id": "64dad2fc",
   "metadata": {},
   "outputs": [],
   "source": [
    "int_block = 7561581\n",
    "print(\"Corresponding bytes to {}:\".format(int_block), bytes(to_base_factors(int_block)))"
   ]
  },
  {
   "cell_type": "markdown",
   "id": "a01c6be6",
   "metadata": {},
   "source": [
    "A problem presents itself: what do we do with null bytes in the most significant position?"
   ]
  },
  {
   "cell_type": "code",
   "execution_count": null,
   "id": "5e441eb9",
   "metadata": {},
   "outputs": [],
   "source": [
    "# Bytes in block\n",
    "encoded = b'\\x00\\x73\\x61\\x6D'\n",
    "print(\"bytes:\", encoded)\n",
    "\n",
    "# transform bytes to int, the integer value of \\x00 is 0\n",
    "# so the value will be the same as b'\\x73\\x61\\x6D'\n",
    "int_block = block_from_bytes(encoded)\n",
    "print(\"int block value:\", int_block)\n",
    "\n",
    "# Recover the bytes from the integer value of the block\n",
    "original = to_base_factors(int_block)\n",
    "print(\"original:\", bytes(original))"
   ]
  },
  {
   "cell_type": "markdown",
   "id": "4a66ff19",
   "metadata": {},
   "source": [
    "If we had processed the value as little endian we would have the same problem, except it would be applied to trailing null bytes. We need to take into account the size of the block and add missing null bytes, if any."
   ]
  },
  {
   "cell_type": "code",
   "execution_count": null,
   "id": "b2836627",
   "metadata": {},
   "outputs": [],
   "source": [
    "def bytes_from_block(block: int, blocksize : int = None) -> bytes:\n",
    "    '''\n",
    "    Extract the original bytes from a numeric block.\n",
    "    Bytes are in little endian.\n",
    "    '''\n",
    "    factors = to_base_factors(block, 2 ** 8)\n",
    "    # deal with the null byte \\x00\n",
    "    if blocksize is not None:\n",
    "        factors = [0] * (blocksize - len(factors)) + factors\n",
    "    return bytes(factors)"
   ]
  },
  {
   "cell_type": "code",
   "execution_count": null,
   "id": "b504cff5",
   "metadata": {},
   "outputs": [],
   "source": [
    "# Bytes in block\n",
    "encoded = b'\\x73\\x61\\x6D\\x00'\n",
    "print(\"bytes:\", encoded)\n",
    "\n",
    "# transform bytes to int, the integer value of \\x00 is 0\n",
    "# so the value will be the same as b'\\x73\\x61\\x6D'\n",
    "int_block = block_from_bytes(encoded)\n",
    "print(\"int block value:\", int_block)\n",
    "\n",
    "# Recover the bytes from the integer value of the block\n",
    "original = bytes_from_block(int_block, len(encoded))\n",
    "print(\"original:\", bytes(original))"
   ]
  },
  {
   "cell_type": "markdown",
   "id": "c39431a9",
   "metadata": {},
   "source": [
    "Note that this is not a problem with zeros in other positions:\n",
    "<br><br>\n",
    "bytes = b'\\x63\\x00\\x00' = b'c\\x00\\x00'\n",
    "<br><br>\n",
    "$int\\_value = 99 * (2^8)^2 + 0 * (2^8)^1 + 0 * (2^8)^0 = 6488064$\n",
    "<br><br>\n",
    "We convert it back to bytes:\n",
    "<br><br>\n",
    "$original = 6488064$\n",
    "<br>\n",
    "==================================\n",
    "<br>\n",
    "$quotient = 6488064 // 2^8  = 25344$\n",
    "<br>\n",
    "$remainder = 6488064 \\text { mod } 2^8 = {\\color{red}0}$\n",
    "<br>\n",
    "==================================\n",
    "<br>\n",
    "==================================\n",
    "<br>\n",
    "$quotient = 25344 // 2^8  = 99$\n",
    "<br>\n",
    "$remainder = 25344 \\text { mod } 2^8 = {\\color{red}0}$\n",
    "<br>\n",
    "==================================\n",
    "<br>\n",
    "==================================\n",
    "<br>\n",
    "$quotient = 99 // 2^8  = 0$\n",
    "<br>\n",
    "$remainder = 99 \\text { mod } 2^8 = {\\color{red}{99}}$\n",
    "<br>\n",
    "==================================\n",
    "<br><br>"
   ]
  },
  {
   "cell_type": "code",
   "execution_count": null,
   "id": "0b155e39",
   "metadata": {},
   "outputs": [],
   "source": [
    "def rsa_decrypt(by: bytes, n: int, d: int) -> bytes:\n",
    "    encrypted_block_size = compute_block_size(n) + 1\n",
    "    \n",
    "    decrypted = rsa_conversion(by, n, d, encrypted_block_size)\n",
    "    last_size = decrypted[-1]\n",
    "    # decrypt the last block independently\n",
    "    last_block = [bytes_from_block(decrypted[-2], last_size)]\n",
    "    \n",
    "    decrypted = decrypted[:-2]\n",
    "    decrypted = [bytes_from_block(block, encrypted_block_size - 1) \n",
    "                 for block in decrypted]\n",
    "    decrypted = (b'').join(decrypted + last_block)\n",
    "    \n",
    "    return decrypted"
   ]
  },
  {
   "cell_type": "code",
   "execution_count": null,
   "id": "9bd324a1",
   "metadata": {
    "scrolled": true
   },
   "outputs": [],
   "source": [
    "original_bytes = rsa_decrypt(encrypted, n, d)\n",
    "original_message = original_bytes.decode(\"utf-8\")\n",
    "print(\"decrypted message:\", original_message)\n",
    "print(\"original message:\", message)"
   ]
  },
  {
   "cell_type": "markdown",
   "id": "1b9155e8",
   "metadata": {},
   "source": [
    "To reiterate: the division in blocks is unorthodox: most implementations just choose a size equal to the number of bytes required to accomodate $n$ and simply throw an error if the numerical value of the message is greater: https://github.com/Legrandin/pycryptodome/blob/master/lib/Crypto/PublicKey/RSA.py#L147"
   ]
  },
  {
   "cell_type": "markdown",
   "id": "6eaa6904",
   "metadata": {},
   "source": [
    "## More professional implementations\n",
    "\n",
    "We have implemented a (incomplete and insecure) version of RSA for educational purposes, but in any serious application it is recommended to use some established library to include cryptographic operations. In Python's case the _cryptography_ library is one of the more popular choices: https://cryptography.io/en/latest/"
   ]
  },
  {
   "cell_type": "markdown",
   "id": "7d2376af",
   "metadata": {},
   "source": [
    "As the documentation https://cryptography.io/en/latest/ says, even properly implemented cryptographic operations can be used incorrectly, so care must be taken to avoid security issues."
   ]
  },
  {
   "cell_type": "code",
   "execution_count": null,
   "id": "7d2d4eff",
   "metadata": {},
   "outputs": [],
   "source": [
    "from cryptography.hazmat.primitives.asymmetric import rsa\n",
    "from cryptography.hazmat.primitives.asymmetric import padding\n",
    "from cryptography.hazmat.primitives import hashes\n",
    "\n",
    "# The private key is stored accoring to specifications in RFC 8017\n",
    "# https://www.rfc-editor.org/rfc/rfc8017, section 3.2\n",
    "private_key = rsa.generate_private_key(65537, 2048)\n",
    "public_key = private_key.public_key()\n",
    "print([x for x in dir(private_key.private_numbers()) if \"__\" not in x])\n",
    "print(\"Private key:\", private_key.private_numbers().d)\n",
    "print(\"Public key:\", public_key.public_numbers())\n",
    "print(\"Bitlength of n:\", bitlength(public_key.public_numbers().n))"
   ]
  },
  {
   "cell_type": "markdown",
   "id": "46ddcecb",
   "metadata": {},
   "source": [
    "To encrypt the message padding is required and it is very useful as we will see."
   ]
  },
  {
   "cell_type": "code",
   "execution_count": null,
   "id": "e85fbab9",
   "metadata": {},
   "outputs": [],
   "source": [
    "message = \"hello\"\n",
    "encoded = message.encode(\"utf-8\")\n",
    "print(\"Encoded message:\", encoded)\n",
    "encrypted = public_key.encrypt(\n",
    "    encoded, \n",
    "    # Padding is a mandatory argument. Note that OAEP is the padding of choice for modern uses\n",
    "    padding.OAEP(\n",
    "        mgf=padding.MGF1(algorithm=hashes.SHA512()),\n",
    "        algorithm=hashes.SHA512(),\n",
    "        label=None\n",
    "    )\n",
    ")\n",
    "\n",
    "# Note how the length of the ciphertext is incremented through padding\n",
    "# and how each execution produces a different ciphertext:\n",
    "# the padding used is probabilistic\n",
    "print(\"ciphertext:\", encrypted)"
   ]
  },
  {
   "cell_type": "code",
   "execution_count": null,
   "id": "1a75f911",
   "metadata": {},
   "outputs": [],
   "source": [
    "original_message = private_key.decrypt(\n",
    "    encrypted,\n",
    "    padding.OAEP(\n",
    "        mgf=padding.MGF1(algorithm=hashes.SHA512()),\n",
    "        algorithm=hashes.SHA512(),\n",
    "        label=None\n",
    "    )\n",
    ")\n",
    "\n",
    "print(\"Original encoded:\", original_message)"
   ]
  },
  {
   "cell_type": "markdown",
   "id": "99d4b85b",
   "metadata": {},
   "source": [
    "In addition, the private key must be properly stored, which is another matter we ignored in our implementation. Since it is a private key, storage must be protected; saving in plaintext is advised against.\n",
    "<br><br>\n",
    "There are different encodings, but usually the process involves applying base64 so that the key contains only ASCII characters."
   ]
  },
  {
   "cell_type": "code",
   "execution_count": null,
   "id": "e25470e9",
   "metadata": {},
   "outputs": [],
   "source": [
    "from cryptography.hazmat.primitives import serialization\n",
    "\n",
    "pem = private_key.private_bytes(\n",
    "   encoding=serialization.Encoding.PEM,\n",
    "   format=serialization.PrivateFormat.PKCS8,\n",
    "   # Obviously, the password should be something actually secure\n",
    "   encryption_algorithm=serialization.BestAvailableEncryption(b'1234')\n",
    ")\n",
    "print(\"Private key encoded:\", pem.decode(\"ascii\"))\n",
    "\n",
    "# Now save the key. open() simply returns a file object\n",
    "with open(\"private_key.pem\", \"wb\") as pf:\n",
    "    pf.write(pem)"
   ]
  },
  {
   "cell_type": "code",
   "execution_count": null,
   "id": "99a99d50",
   "metadata": {},
   "outputs": [],
   "source": [
    "with open(\"private_key.pem\", \"rb\") as pf:\n",
    "    loaded_private_key = serialization.load_pem_private_key(\n",
    "        # Need to pass the bytes of the saved key and the password if any\n",
    "        # and there should be a password\n",
    "        pf.read(),\n",
    "        password=b\"1234\"\n",
    "    )\n",
    "    \n",
    "print(\"Are the original private key and the loaded one equal?\", \n",
    "      loaded_private_key.private_numbers() == private_key.private_numbers()\n",
    ")"
   ]
  },
  {
   "cell_type": "code",
   "execution_count": null,
   "id": "8ca16eab",
   "metadata": {},
   "outputs": [],
   "source": []
  }
 ],
 "metadata": {
  "kernelspec": {
   "display_name": "Python 3 (ipykernel)",
   "language": "python",
   "name": "python3"
  },
  "language_info": {
   "codemirror_mode": {
    "name": "ipython",
    "version": 3
   },
   "file_extension": ".py",
   "mimetype": "text/x-python",
   "name": "python",
   "nbconvert_exporter": "python",
   "pygments_lexer": "ipython3",
   "version": "3.11.0"
  }
 },
 "nbformat": 4,
 "nbformat_minor": 5
}
